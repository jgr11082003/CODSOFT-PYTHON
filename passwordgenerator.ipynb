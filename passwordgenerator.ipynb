{
  "nbformat": 4,
  "nbformat_minor": 0,
  "metadata": {
    "colab": {
      "provenance": [],
      "authorship_tag": "ABX9TyMT2un06n1Sax0WwZM0c1Ww",
      "include_colab_link": true
    },
    "kernelspec": {
      "name": "python3",
      "display_name": "Python 3"
    },
    "language_info": {
      "name": "python"
    }
  },
  "cells": [
    {
      "cell_type": "markdown",
      "metadata": {
        "id": "view-in-github",
        "colab_type": "text"
      },
      "source": [
        "<a href=\"https://colab.research.google.com/github/jgr11082003/CODSOFT-PYTHON/blob/main/passwordgenerator.ipynb\" target=\"_parent\"><img src=\"https://colab.research.google.com/assets/colab-badge.svg\" alt=\"Open In Colab\"/></a>"
      ]
    },
    {
      "cell_type": "code",
      "execution_count": 2,
      "metadata": {
        "colab": {
          "base_uri": "https://localhost:8080/"
        },
        "id": "PI8iUiTEesS_",
        "outputId": "a93db827-d523-4b87-c5fa-4ee54a194866"
      },
      "outputs": [
        {
          "output_type": "stream",
          "name": "stdout",
          "text": [
            "Welcome to the Advanced Password Generator!\n",
            "Enter the desired length of the password (minimum 4): 8\n",
            "Include uppercase letters? (y/n): y\n",
            "Include lowercase letters? (y/n): y\n",
            "Include digits? (y/n): y\n",
            "Include special characters? (y/n): y\n",
            "\n",
            "Generated Password:  zO@dF0(+\n"
          ]
        }
      ],
      "source": [
        "import random\n",
        "import string\n",
        "\n",
        "def generate_password(length, use_uppercase=True, use_lowercase=True, use_digits=True, use_special=True):\n",
        "\n",
        "    characters = \"\"\n",
        "    if use_uppercase:\n",
        "        characters += string.ascii_uppercase\n",
        "    if use_lowercase:\n",
        "        characters += string.ascii_lowercase\n",
        "    if use_digits:\n",
        "        characters += string.digits\n",
        "    if use_special:\n",
        "        characters += string.punctuation\n",
        "\n",
        "    password = []\n",
        "    if use_uppercase:\n",
        "        password.append(random.choice(string.ascii_uppercase))\n",
        "    if use_lowercase:\n",
        "        password.append(random.choice(string.ascii_lowercase))\n",
        "    if use_digits:\n",
        "        password.append(random.choice(string.digits))\n",
        "    if use_special:\n",
        "        password.append(random.choice(string.punctuation))\n",
        "\n",
        "\n",
        "    for _ in range(length - len(password)):\n",
        "        password.append(random.choice(characters))\n",
        "\n",
        "    random.shuffle(password)\n",
        "\n",
        "\n",
        "    return ''.join(password)\n",
        "\n",
        "def get_user_preferences():\n",
        "\n",
        "    while True:\n",
        "        try:\n",
        "            length = int(input(\"Enter the desired length of the password (minimum 4): \"))\n",
        "            if length < 4:\n",
        "                print(\"Password length must be at least 4 characters.\")\n",
        "            else:\n",
        "                break\n",
        "        except ValueError:\n",
        "            print(\"Please enter a valid integer.\")\n",
        "\n",
        "\n",
        "    use_uppercase = input(\"Include uppercase letters? (y/n): \").lower() == 'y'\n",
        "    use_lowercase = input(\"Include lowercase letters? (y/n): \").lower() == 'y'\n",
        "    use_digits = input(\"Include digits? (y/n): \").lower() == 'y'\n",
        "    use_special = input(\"Include special characters? (y/n): \").lower() == 'y'\n",
        "\n",
        "    return length, use_uppercase, use_lowercase, use_digits, use_special\n",
        "\n",
        "def main():\n",
        "    print(\"Welcome to the Advanced Password Generator!\")\n",
        "    length, use_uppercase, use_lowercase, use_digits, use_special = get_user_preferences()\n",
        "\n",
        "\n",
        "    password = generate_password(length, use_uppercase, use_lowercase, use_digits, use_special)\n",
        "\n",
        "\n",
        "    print(\"\\nGenerated Password: \", password)\n",
        "\n",
        "if __name__ == \"__main__\":\n",
        "    main()"
      ]
    }
  ]
}