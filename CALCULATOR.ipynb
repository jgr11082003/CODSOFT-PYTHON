{
  "nbformat": 4,
  "nbformat_minor": 0,
  "metadata": {
    "colab": {
      "provenance": [],
      "authorship_tag": "ABX9TyOuwEPuzN6WZArVCAbQsxDL",
      "include_colab_link": true
    },
    "kernelspec": {
      "name": "python3",
      "display_name": "Python 3"
    },
    "language_info": {
      "name": "python"
    }
  },
  "cells": [
    {
      "cell_type": "markdown",
      "metadata": {
        "id": "view-in-github",
        "colab_type": "text"
      },
      "source": [
        "<a href=\"https://colab.research.google.com/github/jgr11082003/CODSOFT-PYTHON/blob/main/CALCULATOR.ipynb\" target=\"_parent\"><img src=\"https://colab.research.google.com/assets/colab-badge.svg\" alt=\"Open In Colab\"/></a>"
      ]
    },
    {
      "cell_type": "code",
      "source": [
        "\n",
        "def show_menu():\n",
        "    print(\"\\n--- SIMPLE CALCULATOR ---\")\n",
        "    print(\"1. Addition (+)\")\n",
        "    print(\"2. Subtraction (-)\")\n",
        "    print(\"3. Multiplication (*)\")\n",
        "    print(\"4. Division (/)\")\n",
        "    print(\"5. Exit\")\n",
        "\n",
        "def add(num1, num2):\n",
        "    return num1 + num2\n",
        "\n",
        "def subtract(num1, num2):\n",
        "    return num1 - num2\n",
        "\n",
        "def multiply(num1, num2):\n",
        "    return num1 * num2\n",
        "\n",
        "def divide(num1, num2):\n",
        "    if num2 == 0:\n",
        "        return \"Error: Division by zero is not allowed!\"\n",
        "    return num1 / num2\n",
        "\n",
        "while True:\n",
        "    show_menu()\n",
        "    choice = input(\"\\nEnter your choice (1-5): \")\n",
        "\n",
        "    if choice == \"5\":\n",
        "        print(\"\\nThank you for using the Simple Calculator. Goodbye!\")\n",
        "        break\n",
        "\n",
        "    if choice in [\"1\", \"2\", \"3\", \"4\"]:\n",
        "        try:\n",
        "            num1 = float(input(\"Enter the first number: \"))\n",
        "            num2 = float(input(\"Enter the second number: \"))\n",
        "        except ValueError:\n",
        "            print(\"Invalid input! Please enter numeric values.\")\n",
        "            continue\n",
        "\n",
        "        if choice == \"1\":\n",
        "            result = add(num1, num2)\n",
        "            print(f\"\\nResult: {num1} + {num2} = {result}\")\n",
        "        elif choice == \"2\":\n",
        "            result = subtract(num1, num2)\n",
        "            print(f\"\\nResult: {num1} - {num2} = {result}\")\n",
        "        elif choice == \"3\":\n",
        "            result = multiply(num1, num2)\n",
        "            print(f\"\\nResult: {num1} * {num2} = {result}\")\n",
        "        elif choice == \"4\":\n",
        "            result = divide(num1, num2)\n",
        "            print(f\"\\nResult: {num1} / {num2} = {result}\")\n",
        "    else:\n",
        "        print(\"\\nInvalid choice! Please choose a number between 1 and 5.\")"
      ],
      "metadata": {
        "colab": {
          "base_uri": "https://localhost:8080/"
        },
        "id": "NJ3bzVZr1x6o",
        "outputId": "b0f3040c-9e77-4ec5-ab15-d169e6422cc2"
      },
      "execution_count": 2,
      "outputs": [
        {
          "output_type": "stream",
          "name": "stdout",
          "text": [
            "\n",
            "--- SIMPLE CALCULATOR ---\n",
            "1. Addition (+)\n",
            "2. Subtraction (-)\n",
            "3. Multiplication (*)\n",
            "4. Division (/)\n",
            "5. Exit\n",
            "\n",
            "Enter your choice (1-5): 1\n",
            "Enter the first number: 11\n",
            "Enter the second number: 8\n",
            "\n",
            "Result: 11.0 + 8.0 = 19.0\n",
            "\n",
            "--- SIMPLE CALCULATOR ---\n",
            "1. Addition (+)\n",
            "2. Subtraction (-)\n",
            "3. Multiplication (*)\n",
            "4. Division (/)\n",
            "5. Exit\n",
            "\n",
            "Enter your choice (1-5): 2\n",
            "Enter the first number: 11\n",
            "Enter the second number: 8\n",
            "\n",
            "Result: 11.0 - 8.0 = 3.0\n",
            "\n",
            "--- SIMPLE CALCULATOR ---\n",
            "1. Addition (+)\n",
            "2. Subtraction (-)\n",
            "3. Multiplication (*)\n",
            "4. Division (/)\n",
            "5. Exit\n",
            "\n",
            "Enter your choice (1-5): 3\n",
            "Enter the first number: 11\n",
            "Enter the second number: 8\n",
            "\n",
            "Result: 11.0 * 8.0 = 88.0\n",
            "\n",
            "--- SIMPLE CALCULATOR ---\n",
            "1. Addition (+)\n",
            "2. Subtraction (-)\n",
            "3. Multiplication (*)\n",
            "4. Division (/)\n",
            "5. Exit\n",
            "\n",
            "Enter your choice (1-5): 4\n",
            "Enter the first number: 10\n",
            "Enter the second number: 5\n",
            "\n",
            "Result: 10.0 / 5.0 = 2.0\n",
            "\n",
            "--- SIMPLE CALCULATOR ---\n",
            "1. Addition (+)\n",
            "2. Subtraction (-)\n",
            "3. Multiplication (*)\n",
            "4. Division (/)\n",
            "5. Exit\n",
            "\n",
            "Enter your choice (1-5): 5\n",
            "\n",
            "Thank you for using the Simple Calculator. Goodbye!\n"
          ]
        }
      ]
    }
  ]
}