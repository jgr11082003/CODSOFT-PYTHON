{
  "nbformat": 4,
  "nbformat_minor": 0,
  "metadata": {
    "colab": {
      "provenance": [],
      "authorship_tag": "ABX9TyPB/LPQqQTGYAXhFNyKsmh/",
      "include_colab_link": true
    },
    "kernelspec": {
      "name": "python3",
      "display_name": "Python 3"
    },
    "language_info": {
      "name": "python"
    }
  },
  "cells": [
    {
      "cell_type": "markdown",
      "metadata": {
        "id": "view-in-github",
        "colab_type": "text"
      },
      "source": [
        "<a href=\"https://colab.research.google.com/github/jgr11082003/CODSOFT-PYTHON/blob/main/Rock_Paper_Scissors_Game.ipynb\" target=\"_parent\"><img src=\"https://colab.research.google.com/assets/colab-badge.svg\" alt=\"Open In Colab\"/></a>"
      ]
    },
    {
      "cell_type": "code",
      "execution_count": 1,
      "metadata": {
        "id": "Vcz4CmDJgJ7a",
        "colab": {
          "base_uri": "https://localhost:8080/"
        },
        "outputId": "0e2a9931-562d-4805-e73c-971dc3dd916b"
      },
      "outputs": [
        {
          "output_type": "stream",
          "name": "stdout",
          "text": [
            "Welcome to the Rock-Paper-Scissors Game!\n",
            "\n",
            "--- Rock-Paper-Scissors Game ---\n",
            "Choose one: rock, paper, or scissors\n",
            "Your choice: rock\n",
            "\n",
            "Your choice: rock\n",
            "Computer's choice: paper\n",
            "You lose!\n",
            "\n",
            "Score - You: 0, Computer: 1\n",
            "\n",
            "Do you want to play again? (yes/no): yes\n",
            "\n",
            "--- Rock-Paper-Scissors Game ---\n",
            "Choose one: rock, paper, or scissors\n",
            "Your choice: paper\n",
            "\n",
            "Your choice: paper\n",
            "Computer's choice: scissors\n",
            "You lose!\n",
            "\n",
            "Score - You: 0, Computer: 2\n",
            "\n",
            "Do you want to play again? (yes/no): no\n",
            "\n",
            "Thanks for playing! Final Score:\n",
            "You: 0, Computer: 2\n"
          ]
        }
      ],
      "source": [
        "import random\n",
        "\n",
        "\n",
        "def determine_winner(user_choice, computer_choice):\n",
        "    if user_choice == computer_choice:\n",
        "        return \"tie\"\n",
        "    elif (user_choice == \"rock\" and computer_choice == \"scissors\") or \\\n",
        "         (user_choice == \"scissors\" and computer_choice == \"paper\") or \\\n",
        "         (user_choice == \"paper\" and computer_choice == \"rock\"):\n",
        "        return \"user\"\n",
        "    else:\n",
        "        return \"computer\"\n",
        "\n",
        "\n",
        "def display_result(user_choice, computer_choice, result):\n",
        "    print(f\"\\nYour choice: {user_choice}\")\n",
        "    print(f\"Computer's choice: {computer_choice}\")\n",
        "    if result == \"tie\":\n",
        "        print(\"It's a tie!\")\n",
        "    elif result == \"user\":\n",
        "        print(\"You win!\")\n",
        "    else:\n",
        "        print(\"You lose!\")\n",
        "\n",
        "# Function to play the game\n",
        "def play_game():\n",
        "    user_score = 0\n",
        "    computer_score = 0\n",
        "\n",
        "    while True:\n",
        "        print(\"\\n--- Rock-Paper-Scissors Game ---\")\n",
        "        print(\"Choose one: rock, paper, or scissors\")\n",
        "\n",
        "        # User input\n",
        "        user_choice = input(\"Your choice: \").lower()\n",
        "        while user_choice not in [\"rock\", \"paper\", \"scissors\"]:\n",
        "            print(\"Invalid choice! Please choose rock, paper, or scissors.\")\n",
        "            user_choice = input(\"Your choicea: \").lower()\n",
        "\n",
        "        # Computer selection\n",
        "        computer_choice = random.choice([\"rock\", \"paper\", \"scissors\"])\n",
        "\n",
        "        # Determine the winner\n",
        "        result = determine_winner(user_choice, computer_choice)\n",
        "\n",
        "        # Update scores\n",
        "        if result == \"user\":\n",
        "            user_score += 1\n",
        "        elif result == \"computer\":\n",
        "            computer_score += 1\n",
        "\n",
        "        # Display result\n",
        "        display_result(user_choice, computer_choice, result)\n",
        "        print(f\"\\nScore - You: {user_score}, Computer: {computer_score}\")\n",
        "\n",
        "        # Ask if the user wants to play again\n",
        "        play_again = input(\"\\nDo you want to play again? (yes/no): \").lower()\n",
        "        while play_again not in [\"yes\", \"no\"]:\n",
        "            print(\"Invalid input! Please enter 'yes' or 'no'.\")\n",
        "            play_again = input(\"Do you want to play again? (yes/no): \").lower()\n",
        "\n",
        "        if play_again == \"no\":\n",
        "            print(\"\\nThanks for playing! Final Score:\")\n",
        "            print(f\"You: {user_score}, Computer: {computer_score}\")\n",
        "            break\n",
        "\n",
        "# Main function to start the game\n",
        "def main():\n",
        "    print(\"Welcome to the Rock-Paper-Scissors Game!\")\n",
        "    play_game()\n",
        "\n",
        "# Run the game\n",
        "if __name__ == \"__main__\":\n",
        "    main()"
      ]
    }
  ]
}